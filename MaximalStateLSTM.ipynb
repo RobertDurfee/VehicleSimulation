{
 "cells": [
  {
   "cell_type": "code",
   "execution_count": 1,
   "metadata": {},
   "outputs": [
    {
     "name": "stderr",
     "output_type": "stream",
     "text": [
      "Using TensorFlow backend.\n"
     ]
    }
   ],
   "source": [
    "import pandas\n",
    "import re\n",
    "import os\n",
    "import matplotlib.pyplot as plt\n",
    "import numpy as np\n",
    "from keras.models import Sequential, load_model\n",
    "from keras.layers import InputLayer, Masking, LSTM, TimeDistributed, Dense\n",
    "from math import ceil\n",
    "from keras.callbacks import Callback, ModelCheckpoint"
   ]
  },
  {
   "cell_type": "markdown",
   "metadata": {},
   "source": [
    "# Maximal State LSTM Simulation\n",
    "\n",
    "## Overview\n",
    "\n",
    "The goal of this notebook is to use 2017 Ford F-150 Ecoboost chasis dynamometer data from the Argonne National Laboratory to simulate the speed of the vehicle given the current brake pedal and accelerator pedal pressures. The model tested in this notebook is a sequence-to-sequence LSTM. Note that the model is end-to-end, not an encoder-decoder model. To attempt to address issue with the previous model, in additional to the brake and accelerator pedal positions, the previous speed is included as input features. Hopefully the LSTM can store all other important information internally and implicitly. If not, we can employ teacher forcing and store even more state information (like current gear/ratio, engine load/RPM, etc.) externally to help the LSTM."
   ]
  },
  {
   "cell_type": "markdown",
   "metadata": {},
   "source": [
    "## Data\n",
    "\n",
    "This data is from the Downloadable Dynamometer Database and was generated at the Advanced Mobility Technology Laboratory (AMTL) at Argonne National Laboratory under the funding and guidance of the U.S. Department of Energy (DOE).\n",
    "\n",
    "If you read the previous `MinimalStateLSTM.ipynb` notebook, skip down a few lines after the data is collected.\n",
    "\n",
    "First, load a list of TSV data files. These individual files represent separate tests done on the vehicle. Each have different goals and simulation techniques which you can read about in the `./Dynamometer/2017 Ford F150 Ecoboost Test Summary.xlsx` file. The data is recorded at the frequency of 10Hz."
   ]
  },
  {
   "cell_type": "code",
   "execution_count": 2,
   "metadata": {},
   "outputs": [],
   "source": [
    "csvs = list(filter(lambda file: re.match(r'^(?!61706006)\\d{8} Test Data\\.txt$', file) is not None, os.listdir('./DynamometerData')))"
   ]
  },
  {
   "cell_type": "markdown",
   "metadata": {},
   "source": [
    "We load each TSV into a Pandas dataframe. Note: you may not have enough memory to do this all in one pass. If so, load each individual TSV and only keep the important columns identified below."
   ]
  },
  {
   "cell_type": "code",
   "execution_count": 3,
   "metadata": {},
   "outputs": [],
   "source": [
    "dfs = [pandas.read_csv('./DynamometerData/' + csv, sep='\\t', header=0) for csv in csvs]"
   ]
  },
  {
   "cell_type": "markdown",
   "metadata": {},
   "source": [
    "We can get an idea of which columns we have access to. We are looking for columns recording accelerator pedal position, break pedal position, and resulting speed."
   ]
  },
  {
   "cell_type": "code",
   "execution_count": 4,
   "metadata": {},
   "outputs": [
    {
     "data": {
      "text/plain": [
       "['Time[s]_RawFacilities',\n",
       " 'Dyno_Spd[mph]',\n",
       " 'Dyno_TractiveForce[N]',\n",
       " 'Dyno_LoadCell[N]',\n",
       " 'Distance[mi]',\n",
       " 'Dyno_Spd_Front[mph]',\n",
       " 'Dyno_TractiveForce_Front[N]',\n",
       " 'Dyno_LoadCell_Front[N]',\n",
       " 'Dyno_Spd_Rear[mph]',\n",
       " 'Dyno_LoadCell_Rear[N]',\n",
       " 'Dyno_TractiveForce_Rear[N]',\n",
       " 'DilAir_RH[%]',\n",
       " 'Tailpipe_Press[inH2O]',\n",
       " 'Cell_Temp[C]',\n",
       " 'Cell_RH[%]',\n",
       " 'Cell_Press[inHg]',\n",
       " 'Tire_Front_Temp[C]',\n",
       " 'Tire_Rear_Temp[C]',\n",
       " 'Drive_Trace_Schedule[mph]',\n",
       " 'Exhaust_Bag',\n",
       " 'Engine_Oil_Dipstick_Temp[C]',\n",
       " 'Radiator_Air_Outlet_Temp[C]',\n",
       " 'Engine_Bay_Temp[C]',\n",
       " 'Cabin_Temp[C]',\n",
       " 'Cabin_Upper_Vent_Temp[C]',\n",
       " 'Cabin_Lower_Vent_Temp[C]',\n",
       " 'Solar_Array_Ind_Temp[C]',\n",
       " 'Eng_FuelFlow_Direct2[gps]',\n",
       " '12VBatt_Volt_Hioki_U1[V]',\n",
       " '12VBatt_Curr_Hioki_I1[A]',\n",
       " '12VBatt_Power_Hioki_P1[W]',\n",
       " 'Alternator_Curr_Hioki_I2[A]',\n",
       " 'Alternator_Power_Hioki_P2[W]',\n",
       " '12VBatt_Curr_Hi_Hioki_I3[A]',\n",
       " '12VBatt_Power_Hi_Hioki_P3[W]',\n",
       " 'Eng_FuelFlow_Direct[ccps]',\n",
       " 'Eng_Fuel_Temp_Direct[C]',\n",
       " 'Time[s]',\n",
       " 'Trans_shift_inprogress_CAN[]',\n",
       " 'Trans_PRNDL_pos_CAN[]',\n",
       " 'Vehicle_drive_mode_CAN[]',\n",
       " 'Pedal_accel_pos_CAN[per]',\n",
       " 'Trans_gear_desired_CAN[]',\n",
       " 'Trans_gear_engaged_CAN[]',\n",
       " 'Veh_ignition_switch_postion_CAN[]',\n",
       " 'Veh_steering_wheel_pos_CAN[]',\n",
       " 'Veh_4WD_engaged_CAN[]',\n",
       " 'Veh_wheel_spd_R1_CAN[]',\n",
       " 'Veh_wheel_spd_R2_CAN[]',\n",
       " 'Veh_wheel_spd_F1_CAN[]',\n",
       " 'Veh_wheel_spd_F2_CAN[]',\n",
       " 'HVAC_AC_compressor_engaged_CAN[]',\n",
       " 'Veh_traction_control_off_CAN[]',\n",
       " 'Eng_start_stop_active_CAN[]',\n",
       " 'Eng_start_stop_state_CAN[]',\n",
       " 'AMA_Dilute_THC[mg/s]',\n",
       " 'AMA_Dilute_CH4[mg/s]',\n",
       " 'AMA_Dilute_NOx[mg/s]',\n",
       " 'AMA_Dilute_COlow[mg/s]',\n",
       " 'AMA_Dilute_COmid[mg/s]',\n",
       " 'AMA_Dilute_CO2[mg/s]',\n",
       " 'AMA_Dilute_HFID[mg/s]',\n",
       " 'AMA_Dilute_NMHC[mg/s]',\n",
       " 'AMA_Dilute_Fuel[g/s]',\n",
       " 'Eng_load_PCM[per]',\n",
       " 'Eng_speed_PCM[rpm]',\n",
       " 'Veh_speed_PCM[mph]',\n",
       " 'Eng_cylinder_head_temperature_PCM[C]',\n",
       " 'Veh_barometric_press_PCM[kPa]',\n",
       " 'Eng_misfire_detected_PCM[]',\n",
       " 'Eng_knock_sensor1_PCM[]',\n",
       " 'Eng_knock_sensor2_PCM[]',\n",
       " 'Eng_spark_advance_PCM[deg]',\n",
       " 'Veh_ambient_air_temp_PCM[C]',\n",
       " 'Eng_o2s11_active_status_PCM[]',\n",
       " 'Eng_air_fuel_ratio_commanded_bank1_PCM[]',\n",
       " 'Eng_equivalance_ratio_o2s11_PCM[lambda]',\n",
       " 'Eng_evap_canister_purge_valve_dutycycle_PCM[per]',\n",
       " 'Eng_evap_canister_vent_valve_dutycycle_PCM[per]',\n",
       " 'Eng_evap_commanded_purge_PCM[per]',\n",
       " 'Eng_evap_system_monitor_evaluated_PCM[]',\n",
       " 'Eng_egr_evaluated_PCM[]',\n",
       " 'Eng_intake_air_temp_PCM[C]',\n",
       " 'Eng_load_absolute_PCM[per]',\n",
       " 'Eng_misfire_count_PCM[]',\n",
       " 'Eng_generator_current_corrected_PCM[A]',\n",
       " 'Brake_pressure_applied_PCM[]',\n",
       " 'Brake_pedal_applied_PCM[]',\n",
       " 'Eng_throttle_electronic_control_actual_PCM[deg]',\n",
       " 'Eng_throttle_position_PCM[per]',\n",
       " 'Eng_rear_O2_fuel_trim_bank1_PCM[per]',\n",
       " 'Eng_knock_control_spark_adjustment_PCM[deg]',\n",
       " 'Eng_learned_relative_octane_adjustment_PCM[per]',\n",
       " 'Eng_manifold_absolute_pressure_PCM[kPa]',\n",
       " 'Eng_charge_air_cooler_temp_PCM[C]',\n",
       " 'Eng_fuel_rail_press_PCM[kPa]',\n",
       " 'Eng_long_term_fuel_trim_bank1_PCM[per]',\n",
       " 'Eng_short_term_fuel_trim_bank1_PCM[per]',\n",
       " 'Eng_measured_boost_at_throttle_inlet_press_sensor_abs_PCM[kPa]',\n",
       " 'Eng_camshaft_exhaust_position_actual_bank1_PCM[deg]',\n",
       " 'Eng_camshaft_intake_position_actual_bank1_PCM[deg]',\n",
       " 'Eng_camshaft_intake_position_actual_bank2_PCM[deg]',\n",
       " 'Eng_camshaft_exhaust_position_actual_bank2_PCM[deg]',\n",
       " 'Eng_short_term_fuel_trim_bank2_PCM[per]',\n",
       " 'Eng_long_term_fuel_trim_bank2_PCM[per]',\n",
       " 'Fuel_pump_flow_rate_PCM[per]',\n",
       " 'HVAC_air_conditioning_compressor_commanded_state_PCM[]',\n",
       " 'HVAC_air_conditioning_request_signal_PCM[]',\n",
       " 'Eng_oil_pressure_PCM[kPa]',\n",
       " 'Eng_air_fuel_ratio_commanded_bank2_PCM[]',\n",
       " 'Eng_equivalance_ratio_o2s21_PCM[lambda]',\n",
       " 'HVAC_air_conditioning_variable_comp_current_PCM[A]',\n",
       " 'Eng_cooling_fan_speed_desired_PCM[per]',\n",
       " 'Fuel_level_PCM[per]',\n",
       " 'Eng_electronic_variable_air_compressor_PCM[per]',\n",
       " 'HVAC_AC_pressure_PCM[kPa]',\n",
       " 'Eng_fuel_percent_to_DI_commanded_PCM[per]',\n",
       " 'Eng_fuel_volume_control_valve_PCM[per]]',\n",
       " 'Eng_gen_current_max_PCM[A]',\n",
       " 'Eng_gen_monitor_PCM[per]',\n",
       " 'Eng_gen_desired_voltage_PCM[V]',\n",
       " 'Grille_shutter_A_pos_commanded_PCM[per]',\n",
       " 'Grille_shutter_A_pos_inferred_PCM[per]',\n",
       " 'Grille_shutter_B_pos_commanded_PCM[per]',\n",
       " 'Grille_shutter_B_pos_measured_PCM[per]',\n",
       " 'Eng_cyl_1_knock_perf_counter_PCM[]',\n",
       " 'Eng_cyl_2_knock_perf_counter_PCM[]',\n",
       " 'Eng_cyl_3_knock_perf_counter_PCM[]',\n",
       " 'Eng_cyl_4_knock_perf_counter_PCM[]',\n",
       " 'Eng_cyl_5_knock_perf_counter_PCM[]',\n",
       " 'Eng_cyl_6_knock_perf_counter_PCM[]',\n",
       " 'Eng_learned_knock_comb_performance_detection_rate_PCM[per]',\n",
       " 'Eng_powertrain_drive_mode_actual_PCM[]',\n",
       " 'Eng_idle_speed_desired_PCM[rpm]',\n",
       " 'Eng_start_stop_out_of_op_PCM[]',\n",
       " 'Eng_boost_pressure_desired_abs_PCM[kPa]',\n",
       " 'Eng_throttle_position_relative_PCM[]',\n",
       " 'Eng_torque_control_state_PCM[]',\n",
       " 'Eng_VCT_sys_PCM[]',\n",
       " 'Eng_wastegate_pos_sensor_A_position_corrected_PCM[per]',\n",
       " 'Eng_wastegate_pos_sensor_B_position_corrected_PCM[per]',\n",
       " 'Eng_camshaft_exhaust_angle_desired_PCM[deg]',\n",
       " 'Eng_camshaft_intake_angle_desired_PCM[deg]',\n",
       " 'Trans_torque_converter_clutch_solenoid_press_TCM[kPa]',\n",
       " 'Trans_torque_converter_slip_ratio_TCM[]',\n",
       " 'Trans_torque_converter_slip_actual_TCM[rpm]',\n",
       " 'Trans_torque_converter_slip_desired_TCM[rpm]',\n",
       " 'Trans_line_pressure_control_TCM[kPa]',\n",
       " 'Trans_gear_ratio_measured_TCM[]',\n",
       " 'Trans_shift_time_cmd_to_10_TCM[s]',\n",
       " 'Trans_gear_commanded_output_state_control_TCM[]',\n",
       " 'Trans_line_pressure_desired_TCM[kPa]',\n",
       " 'Trans_gear_engaged_output_state_control_TCM[]',\n",
       " 'Trans_gear_commanded by_output_state_control_TCM[]',\n",
       " 'Trans_intermediate_shaft_A_speed_raw_TCM[rpm]',\n",
       " 'Trans_intermediate_shaft_B_speed_raw_TCM[rpm]',\n",
       " 'Trans_output_shaft_speed_raw_TCM[rpm]',\n",
       " 'Engine_speed_TCM[rpm]',\n",
       " 'Trans_shift_time_10_to_90_TCM[s]',\n",
       " 'Trans_shift_solenoid_pressure_A_TCM[kPa]',\n",
       " 'Trans_shift_solenoid_pressure_B_TCM[kPa]',\n",
       " 'Trans_shift_solenoid_pressure_C_TCM[kPa]',\n",
       " 'Trans_shift_solenoid_pressure_D_TCM[kPa]',\n",
       " 'Trans_shift_solenoid_pressure_E_TCM[kPa]',\n",
       " 'Trans_shift_solenoid_pressure_F_TCM[kPa]',\n",
       " 'Eng_start_stop_main_control_state_TCM[]',\n",
       " 'Eng_start_stop_monitor_state_TCM[]',\n",
       " 'Trans_fluid_temp_TCM[C]',\n",
       " 'Veh_speed_high_res_TCM[kph]',\n",
       " 'Veh_total_distance_TCM[km]',\n",
       " 'Eng_fuel_low_side_press_PCM[kpa]',\n",
       " 'Veh_4WD_L_engaged_CAN[]']"
      ]
     },
     "execution_count": 4,
     "metadata": {},
     "output_type": "execute_result"
    }
   ],
   "source": [
    "list(dfs[0].columns)"
   ]
  },
  {
   "cell_type": "markdown",
   "metadata": {},
   "source": [
    "Before we select our columns, we need to know the maximum sequence recorded. We will round to the nearest 100 to allow for flexible batch sizes."
   ]
  },
  {
   "cell_type": "code",
   "execution_count": 5,
   "metadata": {},
   "outputs": [
    {
     "data": {
      "text/plain": [
       "61600"
      ]
     },
     "execution_count": 5,
     "metadata": {},
     "output_type": "execute_result"
    }
   ],
   "source": [
    "max_length = (ceil(max([len(df) for df in dfs]) / 100)) * 100\n",
    "max_length"
   ]
  },
  {
   "cell_type": "markdown",
   "metadata": {},
   "source": [
    "Now we can convert the data frames into input and target sets of sequences. We will make the suffix padding -1 as that is an invalid input value. We should not use 0 as that has meaning in the sequence."
   ]
  },
  {
   "cell_type": "code",
   "execution_count": 6,
   "metadata": {},
   "outputs": [],
   "source": [
    "# Padding with invalid value -1.\n",
    "X = np.full([len(dfs), max_length, 10], -1.)\n",
    "Y = np.full([len(dfs), max_length, 8], -1.)\n",
    "\n",
    "for i, df in enumerate(dfs):\n",
    "       \n",
    "    # Current\n",
    "    X[i,:len(df)-1,0] += df['Brake_pressure_applied_PCM[]'].values[1:] + 1\n",
    "    X[i,:len(df)-1,1] += df['Pedal_accel_pos_CAN[per]'].values[1:] + 1\n",
    "    \n",
    "    # Previous\n",
    "    X[i,:len(df)-1,2] += df['Dyno_Spd[mph]'].values[:-1] + 1\n",
    "    X[i,:len(df)-1,3] += df['Eng_throttle_electronic_control_actual_PCM[deg]'].values[:-1] + 1\n",
    "    X[i,:len(df)-1,4] += df['Eng_throttle_position_PCM[per]'].values[:-1] + 1\n",
    "    X[i,:len(df)-1,5] += df['Trans_gear_engaged_CAN[]'].values[:-1] + 1\n",
    "    X[i,:len(df)-1,6] += df['Eng_load_PCM[per]'].values[:-1] + 1\n",
    "    X[i,:len(df)-1,7] += df['Eng_speed_PCM[rpm]'].values[:-1] + 1\n",
    "    X[i,:len(df)-1,8] += df['Trans_gear_ratio_measured_TCM[]'].values[:-1] + 1\n",
    "    X[i,:len(df)-1,9] += df['Trans_output_shaft_speed_raw_TCM[rpm]'].values[:-1] + 1\n",
    "        \n",
    "    # Outputs\n",
    "    Y[i,:len(df)-1,0] += df['Dyno_Spd[mph]'].values[1:] + 1\n",
    "    Y[i,:len(df)-1,1] += df['Eng_throttle_electronic_control_actual_PCM[deg]'].values[1:] + 1\n",
    "    Y[i,:len(df)-1,2] += df['Eng_throttle_position_PCM[per]'].values[1:] + 1      \n",
    "    Y[i,:len(df)-1,3] += df['Trans_gear_engaged_CAN[]'].values[1:] + 1\n",
    "    Y[i,:len(df)-1,4] += df['Eng_load_PCM[per]'].values[1:] + 1\n",
    "    Y[i,:len(df)-1,5] += df['Eng_speed_PCM[rpm]'].values[1:] + 1\n",
    "    Y[i,:len(df)-1,6] += df['Trans_gear_ratio_measured_TCM[]'].values[1:] + 1\n",
    "    Y[i,:len(df)-1,7] += df['Trans_output_shaft_speed_raw_TCM[rpm]'].values[1:] + 1\n",
    "    "
   ]
  },
  {
   "cell_type": "markdown",
   "metadata": {},
   "source": [
    "We can now delete the data frames to force release of some memory."
   ]
  },
  {
   "cell_type": "code",
   "execution_count": 7,
   "metadata": {},
   "outputs": [],
   "source": [
    "del dfs"
   ]
  },
  {
   "cell_type": "markdown",
   "metadata": {},
   "source": [
    "Because the LSTM network is sensitive to magnitude, we need to scale our data. Since the sigmoid activation is used, we scale to the range $[0, 1]$. We store the minimums and maximums to inverse the transform after training and testing."
   ]
  },
  {
   "cell_type": "code",
   "execution_count": 8,
   "metadata": {},
   "outputs": [],
   "source": [
    "NEW_MIN = 0.25\n",
    "NEW_MAX = 0.75\n",
    "OLD_PAD_VAL = -1.\n",
    "NEW_PAD_VAL = 0.\n",
    "\n",
    "X_mins, X_maxs = [], []\n",
    "\n",
    "for k in range(X.shape[2]):\n",
    "    \n",
    "    X_mins.append(X[:,:,k][X[:,:,k] != OLD_PAD_VAL].min())\n",
    "    X_maxs.append(X[:,:,k][X[:,:,k] != OLD_PAD_VAL].max())\n",
    "    \n",
    "X_std = np.full(X.shape, NEW_PAD_VAL)\n",
    "\n",
    "for i in range(X.shape[0]):    \n",
    "    for k in range(X.shape[2]):\n",
    "        \n",
    "        indices = np.where(X[i,:,k] != OLD_PAD_VAL)        \n",
    "        X_std[i,indices,k] += ((X[i,indices,k] - X_mins[k]) / (X_maxs[k] - X_mins[k])) * (NEW_MAX - NEW_MIN) + NEW_MIN - NEW_PAD_VAL\n",
    "\n",
    "Y_mins, Y_maxs = [], []\n",
    "\n",
    "for k in range(Y.shape[2]):\n",
    "    \n",
    "    Y_mins.append(Y[:,:,k][Y[:,:,k] != OLD_PAD_VAL].min())\n",
    "    Y_maxs.append(Y[:,:,k][Y[:,:,k] != OLD_PAD_VAL].max())\n",
    "\n",
    "Y_std = np.full(Y.shape, NEW_PAD_VAL)\n",
    "\n",
    "for i in range(Y.shape[0]):\n",
    "    for k in range(Y.shape[2]):\n",
    "        \n",
    "        indices = np.where(Y[i,:,k] != OLD_PAD_VAL)\n",
    "        Y_std[i,indices,k] += ((Y[i,indices,k] - Y_mins[k]) / (Y_maxs[k] - Y_mins[k])) * (NEW_MAX - NEW_MIN) + NEW_MIN - NEW_PAD_VAL"
   ]
  },
  {
   "cell_type": "markdown",
   "metadata": {},
   "source": [
    "## Model\n",
    "\n",
    "We are now ready to start developing a model for our sequence. Since our sequences are one-to-one, I will not bother with an encoder-decoder architecture yet. This aslo shouldn't be necessary as only the past data is necessary to predict a single element of the sequence.\n",
    "\n",
    "Since our sequences are over 60,000 elements long, we are going to use a trick to divide the sequences into 100-element subsequences and use the `stateful` parameter in our LSTM layer. The `stateful` option will store and pass along the state of the LSTM between batches. In other words, the terminating state of the $i$th sequence in the batch will be the initial state of the $i$th sequence in the following batch. \n",
    "\n",
    "This means we have to be very careful when defining our inputs. Typically, the `batch_input_shape` is of the form `(batch_size, time_steps, features)`. However, we are not batching on the first axis of our data (the individual sequences) but the length of the sequence. So, our `batch_input_shape` will follow the form `(n_samples, batch_length, features)`. We have 95 sequences, and we will save 10\\% to use as test sequences, our number of samples for training is 86. And, as stated before, the length of the subsequences will be 100 elements.\n",
    "\n",
    "The `return_sequences` option will override the typical LSTM behavior of just returning the last output as we want to use the entire sequence. The `stateful` option is discussed above.\n",
    "\n",
    "The output layer is a `TimeDistributed` `Dense` layer. This will apply the `linear` activation to every element in the output sequence from the LSTM."
   ]
  },
  {
   "cell_type": "code",
   "execution_count": 17,
   "metadata": {},
   "outputs": [
    {
     "name": "stdout",
     "output_type": "stream",
     "text": [
      "_________________________________________________________________\n",
      "Layer (type)                 Output Shape              Param #   \n",
      "=================================================================\n",
      "lstm_2 (LSTM)                (85, 100, 200)            168800    \n",
      "_________________________________________________________________\n",
      "time_distributed_2 (TimeDist (85, 100, 8)              1608      \n",
      "=================================================================\n",
      "Total params: 170,408\n",
      "Trainable params: 170,408\n",
      "Non-trainable params: 0\n",
      "_________________________________________________________________\n"
     ]
    }
   ],
   "source": [
    "train_model = Sequential()\n",
    "\n",
    "train_model.add(InputLayer(batch_input_shape=(85, 100, X_std.shape[2])))\n",
    "train_model.add(LSTM(200, return_sequences=True, stateful=True))\n",
    "train_model.add(TimeDistributed(Dense(Y_std.shape[2], activation='linear')))\n",
    "\n",
    "train_model.summary()"
   ]
  },
  {
   "cell_type": "markdown",
   "metadata": {},
   "source": [
    "`RMSprop` is recommended for LSTM sequences and `mean_squared_error` is appropriate for our numeric output."
   ]
  },
  {
   "cell_type": "code",
   "execution_count": 18,
   "metadata": {},
   "outputs": [],
   "source": [
    "train_model.compile(optimizer='Adam', loss='mse')"
   ]
  },
  {
   "cell_type": "markdown",
   "metadata": {},
   "source": [
    "## Training\n",
    "\n",
    "Because of out slightly unusual batching strategy, we need to implement a custom generator. We could extend a `keras.layers.Sequential` class, but our batching strategy is not too unusual so it is easy enough to implement a Python generator. The infinite loop allows for variable length epochs."
   ]
  },
  {
   "cell_type": "code",
   "execution_count": 19,
   "metadata": {},
   "outputs": [],
   "source": [
    "def batch_generator(X, y, batch_size):\n",
    "    while True:\n",
    "        for i in range(0, X.shape[1], batch_size):        \n",
    "            yield (X[:,i:i+batch_size,:], y[:,i:i+batch_size,:])"
   ]
  },
  {
   "cell_type": "markdown",
   "metadata": {},
   "source": [
    "Because our batch size is fixed, it is not possible to do simultaneous training and validation (unless we halved our data). So, here we manually shuffle and split our data using a 90-10 split."
   ]
  },
  {
   "cell_type": "code",
   "execution_count": 20,
   "metadata": {},
   "outputs": [],
   "source": [
    "SPLIT = X_std.shape[0] - X_std.shape[0] // 10\n",
    "\n",
    "indices = np.arange(0, X_std.shape[0])\n",
    "np.random.shuffle(indices)\n",
    "\n",
    "X_shuffled = X_std[indices,:,:]\n",
    "Y_shuffled = Y_std[indices,:,:]\n",
    "\n",
    "X_train, X_test = X_shuffled[:SPLIT,:,:], X_shuffled[SPLIT:,:,:]\n",
    "Y_train, Y_test = Y_shuffled[:SPLIT,:,:], Y_shuffled[SPLIT:,:,:]"
   ]
  },
  {
   "cell_type": "markdown",
   "metadata": {},
   "source": [
    "It is very important to realize that Keras does not reset the state in a stateful LSTM after each epoch. However, we do *not* want the state to carry over between epochs. Therefore, we manually reset after each epoch using a custom callback."
   ]
  },
  {
   "cell_type": "code",
   "execution_count": 21,
   "metadata": {},
   "outputs": [],
   "source": [
    "class ResetStates(Callback):\n",
    "  \n",
    "  def on_epoch_end(self, epoch, logs=None):\n",
    "    self.model.reset_states()"
   ]
  },
  {
   "cell_type": "code",
   "execution_count": 22,
   "metadata": {},
   "outputs": [],
   "source": [
    "reset_states = ResetStates()"
   ]
  },
  {
   "cell_type": "markdown",
   "metadata": {},
   "source": [
    "Because we are in a notebook and we don't want to lose our model upon a disconnect, we will use the `ModelCheckpoint` callback to save the best model seen so far."
   ]
  },
  {
   "cell_type": "code",
   "execution_count": 23,
   "metadata": {},
   "outputs": [],
   "source": [
    "model_checkpoint = ModelCheckpoint('./Models/MaximalStateLSTM/E{epoch:03d}L{loss:06.4E}.hdf5', save_weights_only=True)"
   ]
  },
  {
   "cell_type": "markdown",
   "metadata": {},
   "source": [
    "Now we are ready to train. We will run for 200 epochs. Note that `steps_per_epoch` is required because our generator has no length. This is the max sequence length divided by the batch length."
   ]
  },
  {
   "cell_type": "code",
   "execution_count": null,
   "metadata": {},
   "outputs": [
    {
     "name": "stdout",
     "output_type": "stream",
     "text": [
      "Epoch 1/200\n",
      "616/616 [==============================] - 129s 209ms/step - loss: 0.0013\n",
      "Epoch 2/200\n",
      "616/616 [==============================] - 129s 209ms/step - loss: 1.1809e-04\n",
      "Epoch 3/200\n",
      "616/616 [==============================] - 129s 209ms/step - loss: 7.7743e-05\n",
      "Epoch 4/200\n",
      "616/616 [==============================] - 129s 209ms/step - loss: 5.9385e-05\n",
      "Epoch 5/200\n",
      "616/616 [==============================] - 129s 209ms/step - loss: 5.3732e-05\n",
      "Epoch 6/200\n",
      "616/616 [==============================] - 129s 210ms/step - loss: 4.3678e-05\n",
      "Epoch 7/200\n",
      "616/616 [==============================] - 129s 209ms/step - loss: 4.6758e-05\n",
      "Epoch 8/200\n",
      "616/616 [==============================] - 129s 209ms/step - loss: 3.1416e-05\n",
      "Epoch 9/200\n",
      "616/616 [==============================] - 128s 208ms/step - loss: 3.0694e-05\n",
      "Epoch 10/200\n",
      "616/616 [==============================] - 128s 208ms/step - loss: 2.8129e-05\n",
      "Epoch 11/200\n",
      "616/616 [==============================] - 128s 208ms/step - loss: 3.4737e-05\n",
      "Epoch 12/200\n",
      "616/616 [==============================] - 128s 208ms/step - loss: 2.0784e-05\n",
      "Epoch 13/200\n",
      "616/616 [==============================] - 128s 208ms/step - loss: 2.1589e-05\n",
      "Epoch 14/200\n",
      "616/616 [==============================] - 129s 209ms/step - loss: 2.1789e-05\n",
      "Epoch 15/200\n",
      "616/616 [==============================] - 129s 210ms/step - loss: 1.9115e-05\n",
      "Epoch 16/200\n",
      "616/616 [==============================] - 140s 227ms/step - loss: 1.7756e-05\n",
      "Epoch 17/200\n",
      "616/616 [==============================] - 203s 329ms/step - loss: 2.2141e-05\n",
      "Epoch 18/200\n",
      "616/616 [==============================] - 178s 289ms/step - loss: 1.5015e-05\n",
      "Epoch 19/200\n",
      "616/616 [==============================] - 130s 211ms/step - loss: 1.9443e-05\n",
      "Epoch 20/200\n",
      "616/616 [==============================] - 179s 290ms/step - loss: 1.4581e-05\n",
      "Epoch 21/200\n",
      "616/616 [==============================] - 128s 209ms/step - loss: 1.7529e-05\n",
      "Epoch 22/200\n",
      "616/616 [==============================] - 129s 210ms/step - loss: 1.4752e-05\n",
      "Epoch 23/200\n",
      "616/616 [==============================] - 128s 208ms/step - loss: 1.5463e-05\n",
      "Epoch 24/200\n",
      "616/616 [==============================] - 128s 208ms/step - loss: 1.5382e-05\n",
      "Epoch 25/200\n",
      "604/616 [============================>.] - ETA: 2s - loss: 1.3963e-05"
     ]
    }
   ],
   "source": [
    "train_model.fit_generator(batch_generator(X_train, Y_train, 100), epochs=200, steps_per_epoch=X.shape[1] / 100, callbacks=[reset_states, model_checkpoint])"
   ]
  }
 ],
 "metadata": {
  "kernelspec": {
   "display_name": "Python 3",
   "language": "python",
   "name": "python3"
  },
  "language_info": {
   "codemirror_mode": {
    "name": "ipython",
    "version": 3
   },
   "file_extension": ".py",
   "mimetype": "text/x-python",
   "name": "python",
   "nbconvert_exporter": "python",
   "pygments_lexer": "ipython3",
   "version": "3.5.3"
  }
 },
 "nbformat": 4,
 "nbformat_minor": 2
}
