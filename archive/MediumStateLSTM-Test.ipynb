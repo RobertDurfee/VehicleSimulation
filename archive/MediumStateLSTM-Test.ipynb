{
 "cells": [
  {
   "cell_type": "code",
   "execution_count": 1,
   "metadata": {},
   "outputs": [
    {
     "name": "stderr",
     "output_type": "stream",
     "text": [
      "Using TensorFlow backend.\n"
     ]
    }
   ],
   "source": [
    "import pandas\n",
    "import re\n",
    "import os\n",
    "import matplotlib.pyplot as plt\n",
    "import numpy as np\n",
    "from keras.models import Sequential, load_model\n",
    "from keras.layers import InputLayer, Masking, LSTM, TimeDistributed, Dense\n",
    "from math import ceil\n",
    "from keras.callbacks import Callback, ModelCheckpoint"
   ]
  },
  {
   "cell_type": "code",
   "execution_count": 2,
   "metadata": {},
   "outputs": [],
   "source": [
    "csvs = list(filter(lambda file: re.match(r'^\\d{8} Test Data\\.txt$', file) is not None, os.listdir('./DynamometerData')))"
   ]
  },
  {
   "cell_type": "code",
   "execution_count": 3,
   "metadata": {},
   "outputs": [],
   "source": [
    "dfs = [pandas.read_csv('./DynamometerData/' + csv, sep='\\t', header=0) for csv in csvs]"
   ]
  },
  {
   "cell_type": "code",
   "execution_count": 5,
   "metadata": {},
   "outputs": [
    {
     "data": {
      "text/plain": [
       "61600"
      ]
     },
     "execution_count": 5,
     "metadata": {},
     "output_type": "execute_result"
    }
   ],
   "source": [
    "max_length = (ceil(max([len(df) for df in dfs]) / 100)) * 100\n",
    "max_length"
   ]
  },
  {
   "cell_type": "code",
   "execution_count": 6,
   "metadata": {},
   "outputs": [],
   "source": [
    "X = np.full([len(dfs), max_length, 3], -1.)\n",
    "Y = np.full([len(dfs), max_length, 1], -1.)\n",
    "\n",
    "for i, df in enumerate(dfs):\n",
    "\n",
    "    # One sequence doesn't have this column as the brake is never touched\n",
    "    if 'Brake_pressure_applied_PCM[]' in df.columns:\n",
    "        X[i,:len(df),0] += df['Brake_pressure_applied_PCM[]'].values + 1\n",
    "        \n",
    "    X[i,:len(df),1] += df['Pedal_accel_pos_CAN[per]'].values + 1\n",
    "    \n",
    "    # The previous speed for the first measurement should always be 0\n",
    "    X[i,0,2] += 1\n",
    "    X[i,1:len(df),2] += df['Dyno_Spd[mph]'].values[:-1] + 1\n",
    "    \n",
    "    Y[i,:len(df),0] += df['Dyno_Spd[mph]'].values + 1"
   ]
  },
  {
   "cell_type": "code",
   "execution_count": 7,
   "metadata": {},
   "outputs": [],
   "source": [
    "del dfs"
   ]
  },
  {
   "cell_type": "code",
   "execution_count": 9,
   "metadata": {},
   "outputs": [],
   "source": [
    "X_std = np.zeros(X.shape)\n",
    "Y_std = np.zeros(Y.shape)\n",
    "\n",
    "X0_min, X0_max = X[:,:,0].min(), X[:,:,0].max()\n",
    "X1_min, X1_max = X[:,:,1].min(), X[:,:,1].max()\n",
    "X2_min, X2_max = X[:,:,2].min(), X[:,:,2].max()\n",
    "Y0_min, Y0_max = Y[:,:,0].min(), Y[:,:,0].max()\n",
    "\n",
    "X_std[:,:,0] += (X[:,:,0] - X0_min) / (X0_max - X0_min)\n",
    "X_std[:,:,1] += (X[:,:,1] - X1_min) / (X1_max - X1_min)\n",
    "X_std[:,:,2] += (X[:,:,2] - X2_min) / (X2_max - X2_min)\n",
    "Y_std[:,:,0] += (Y[:,:,0] - Y0_min) / (Y0_max - Y0_min)"
   ]
  },
  {
   "cell_type": "code",
   "execution_count": 28,
   "metadata": {},
   "outputs": [],
   "source": [
    "SPLIT = X_std.shape[0] - X_std.shape[0] // 10\n",
    "\n",
    "indices = np.arange(0, X_std.shape[0])\n",
    "np.random.shuffle(indices)\n",
    "\n",
    "X_shuffled = X_std[indices,:,:]\n",
    "Y_shuffled = Y_std[indices,:,:]\n",
    "\n",
    "X_train, X_test = X_shuffled[:SPLIT,:,:], X_shuffled[SPLIT:,:,:]\n",
    "Y_train, Y_test = Y_shuffled[:SPLIT,:,:], Y_shuffled[SPLIT:,:,:]"
   ]
  },
  {
   "cell_type": "code",
   "execution_count": 32,
   "metadata": {},
   "outputs": [
    {
     "name": "stdout",
     "output_type": "stream",
     "text": [
      "_________________________________________________________________\n",
      "Layer (type)                 Output Shape              Param #   \n",
      "=================================================================\n",
      "lstm_3 (LSTM)                (1, 200)                  163200    \n",
      "_________________________________________________________________\n",
      "dense_3 (Dense)              (1, 1)                    201       \n",
      "=================================================================\n",
      "Total params: 163,401\n",
      "Trainable params: 163,401\n",
      "Non-trainable params: 0\n",
      "_________________________________________________________________\n"
     ]
    }
   ],
   "source": [
    "test_model = Sequential()\n",
    "\n",
    "test_model.add(InputLayer(batch_input_shape=(1, 1, X.shape[2])))\n",
    "test_model.add(LSTM(200, stateful=True))\n",
    "test_model.add(Dense(Y.shape[2], activation='linear'))\n",
    "\n",
    "test_model.summary()"
   ]
  },
  {
   "cell_type": "code",
   "execution_count": 71,
   "metadata": {},
   "outputs": [],
   "source": [
    "test_model.load_weights('Models/MediumStateLSTM/E170L3.2593E-06.hdf5')"
   ]
  },
  {
   "cell_type": "code",
   "execution_count": 72,
   "metadata": {},
   "outputs": [],
   "source": [
    "test_model.reset_states()"
   ]
  },
  {
   "cell_type": "code",
   "execution_count": 73,
   "metadata": {},
   "outputs": [],
   "source": [
    "i = 1\n",
    "\n",
    "Y_pred = np.zeros([1, Y_test.shape[1], Y_test.shape[2]])\n",
    "\n",
    "inputs = X_train[i:i+1,0:1,:].copy()\n",
    "\n",
    "j = 0\n",
    "while X_train[i,j,0] != 0.:\n",
    "    \n",
    "    Y_pred[0,j:j+1,:] += test_model.predict(inputs, batch_size=1)\n",
    "\n",
    "    inputs[0,0,:2] = X_train[i:i+1,j+1:j+2,:2]\n",
    "    inputs[0,0,2] = Y_pred[0,j:j+1,0]\n",
    "    \n",
    "    j += 1\n",
    "    \n",
    "test_model.reset_states()"
   ]
  },
  {
   "cell_type": "code",
   "execution_count": 1,
   "metadata": {},
   "outputs": [
    {
     "ename": "NameError",
     "evalue": "name 'plt' is not defined",
     "output_type": "error",
     "traceback": [
      "\u001b[0;31m---------------------------------------------------------------------------\u001b[0m",
      "\u001b[0;31mNameError\u001b[0m                                 Traceback (most recent call last)",
      "\u001b[0;32m<ipython-input-1-248a85b38aa5>\u001b[0m in \u001b[0;36m<module>\u001b[0;34m\u001b[0m\n\u001b[0;32m----> 1\u001b[0;31m \u001b[0mfig\u001b[0m\u001b[0;34m,\u001b[0m \u001b[0max\u001b[0m \u001b[0;34m=\u001b[0m \u001b[0mplt\u001b[0m\u001b[0;34m.\u001b[0m\u001b[0msubplots\u001b[0m\u001b[0;34m(\u001b[0m\u001b[0;34m)\u001b[0m\u001b[0;34m\u001b[0m\u001b[0m\n\u001b[0m\u001b[1;32m      2\u001b[0m \u001b[0;34m\u001b[0m\u001b[0m\n\u001b[1;32m      3\u001b[0m \u001b[0max\u001b[0m\u001b[0;34m.\u001b[0m\u001b[0mscatter\u001b[0m\u001b[0;34m(\u001b[0m\u001b[0mrange\u001b[0m\u001b[0;34m(\u001b[0m\u001b[0mmax_length\u001b[0m\u001b[0;34m)\u001b[0m\u001b[0;34m,\u001b[0m \u001b[0mY_train\u001b[0m\u001b[0;34m[\u001b[0m\u001b[0mi\u001b[0m\u001b[0;34m,\u001b[0m\u001b[0;34m:\u001b[0m\u001b[0;34m,\u001b[0m\u001b[0;36m0\u001b[0m\u001b[0;34m]\u001b[0m\u001b[0;34m,\u001b[0m \u001b[0ms\u001b[0m\u001b[0;34m=\u001b[0m\u001b[0;36m2\u001b[0m\u001b[0;34m)\u001b[0m\u001b[0;34m\u001b[0m\u001b[0m\n\u001b[1;32m      4\u001b[0m \u001b[0max\u001b[0m\u001b[0;34m.\u001b[0m\u001b[0mscatter\u001b[0m\u001b[0;34m(\u001b[0m\u001b[0mrange\u001b[0m\u001b[0;34m(\u001b[0m\u001b[0mmax_length\u001b[0m\u001b[0;34m)\u001b[0m\u001b[0;34m,\u001b[0m \u001b[0mY_pred\u001b[0m\u001b[0;34m[\u001b[0m\u001b[0;36m0\u001b[0m\u001b[0;34m,\u001b[0m\u001b[0;34m:\u001b[0m\u001b[0;34m,\u001b[0m\u001b[0;36m0\u001b[0m\u001b[0;34m]\u001b[0m\u001b[0;34m,\u001b[0m \u001b[0ms\u001b[0m\u001b[0;34m=\u001b[0m\u001b[0;36m2\u001b[0m\u001b[0;34m)\u001b[0m\u001b[0;34m\u001b[0m\u001b[0m\n\u001b[1;32m      5\u001b[0m \u001b[0;34m\u001b[0m\u001b[0m\n",
      "\u001b[0;31mNameError\u001b[0m: name 'plt' is not defined"
     ]
    }
   ],
   "source": [
    "fig, ax = plt.subplots()\n",
    "\n",
    "ax.scatter(range(max_length), Y_train[i,:,0], s=2)\n",
    "ax.scatter(range(max_length), Y_pred[0,:,0], s=2)\n",
    "\n",
    "# Zoom in\n",
    "#plt.xlim(0, 10000)\n",
    "\n",
    "plt.tight_layout()\n",
    "plt.show()"
   ]
  },
  {
   "cell_type": "code",
   "execution_count": null,
   "metadata": {},
   "outputs": [],
   "source": []
  }
 ],
 "metadata": {
  "kernelspec": {
   "display_name": "Python 3",
   "language": "python",
   "name": "python3"
  },
  "language_info": {
   "codemirror_mode": {
    "name": "ipython",
    "version": 3
   },
   "file_extension": ".py",
   "mimetype": "text/x-python",
   "name": "python",
   "nbconvert_exporter": "python",
   "pygments_lexer": "ipython3",
   "version": "3.5.3"
  }
 },
 "nbformat": 4,
 "nbformat_minor": 2
}
