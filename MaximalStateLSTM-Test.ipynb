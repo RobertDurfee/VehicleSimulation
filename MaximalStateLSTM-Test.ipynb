{
 "cells": [
  {
   "cell_type": "code",
   "execution_count": 2,
   "metadata": {},
   "outputs": [
    {
     "name": "stderr",
     "output_type": "stream",
     "text": [
      "Using TensorFlow backend.\n"
     ]
    }
   ],
   "source": [
    "import pandas\n",
    "import re\n",
    "import os\n",
    "import matplotlib.pyplot as plt\n",
    "import numpy as np\n",
    "from keras.models import Sequential, load_model\n",
    "from keras.layers import InputLayer, Masking, LSTM, TimeDistributed, Dense\n",
    "from math import ceil\n",
    "from keras.callbacks import Callback, ModelCheckpoint"
   ]
  },
  {
   "cell_type": "code",
   "execution_count": 3,
   "metadata": {},
   "outputs": [],
   "source": [
    "csvs = list(filter(lambda file: re.match(r'^(?!61706006)\\d{8} Test Data\\.txt$', file) is not None, os.listdir('./DynamometerData')))"
   ]
  },
  {
   "cell_type": "code",
   "execution_count": 4,
   "metadata": {},
   "outputs": [],
   "source": [
    "dfs = [pandas.read_csv('./DynamometerData/' + csv, sep='\\t', header=0) for csv in csvs]"
   ]
  },
  {
   "cell_type": "code",
   "execution_count": 6,
   "metadata": {},
   "outputs": [
    {
     "data": {
      "text/plain": [
       "61600"
      ]
     },
     "execution_count": 6,
     "metadata": {},
     "output_type": "execute_result"
    }
   ],
   "source": [
    "max_length = (ceil(max([len(df) for df in dfs]) / 100)) * 100\n",
    "max_length"
   ]
  },
  {
   "cell_type": "code",
   "execution_count": 7,
   "metadata": {},
   "outputs": [],
   "source": [
    "# Padding with invalid value -1.\n",
    "X = np.full([len(dfs), max_length, 10], -1.)\n",
    "Y = np.full([len(dfs), max_length, 8], -1.)\n",
    "\n",
    "for i, df in enumerate(dfs):\n",
    "       \n",
    "    # Current\n",
    "    X[i,:len(df)-1,0] += df['Brake_pressure_applied_PCM[]'].values[1:] + 1\n",
    "    X[i,:len(df)-1,1] += df['Pedal_accel_pos_CAN[per]'].values[1:] + 1\n",
    "    \n",
    "    # Previous\n",
    "    X[i,:len(df)-1,2] += df['Dyno_Spd[mph]'].values[:-1] + 1\n",
    "    X[i,:len(df)-1,3] += df['Eng_throttle_electronic_control_actual_PCM[deg]'].values[:-1] + 1\n",
    "    X[i,:len(df)-1,4] += df['Eng_throttle_position_PCM[per]'].values[:-1] + 1\n",
    "    X[i,:len(df)-1,5] += df['Trans_gear_engaged_CAN[]'].values[:-1] + 1\n",
    "    X[i,:len(df)-1,6] += df['Eng_load_PCM[per]'].values[:-1] + 1\n",
    "    X[i,:len(df)-1,7] += df['Eng_speed_PCM[rpm]'].values[:-1] + 1\n",
    "    X[i,:len(df)-1,8] += df['Trans_gear_ratio_measured_TCM[]'].values[:-1] + 1\n",
    "    X[i,:len(df)-1,9] += df['Trans_output_shaft_speed_raw_TCM[rpm]'].values[:-1] + 1\n",
    "        \n",
    "    # Outputs\n",
    "    Y[i,:len(df)-1,0] += df['Dyno_Spd[mph]'].values[1:] + 1\n",
    "    Y[i,:len(df)-1,1] += df['Eng_throttle_electronic_control_actual_PCM[deg]'].values[1:] + 1\n",
    "    Y[i,:len(df)-1,2] += df['Eng_throttle_position_PCM[per]'].values[1:] + 1      \n",
    "    Y[i,:len(df)-1,3] += df['Trans_gear_engaged_CAN[]'].values[1:] + 1\n",
    "    Y[i,:len(df)-1,4] += df['Eng_load_PCM[per]'].values[1:] + 1\n",
    "    Y[i,:len(df)-1,5] += df['Eng_speed_PCM[rpm]'].values[1:] + 1\n",
    "    Y[i,:len(df)-1,6] += df['Trans_gear_ratio_measured_TCM[]'].values[1:] + 1\n",
    "    Y[i,:len(df)-1,7] += df['Trans_output_shaft_speed_raw_TCM[rpm]'].values[1:] + 1\n",
    "    "
   ]
  },
  {
   "cell_type": "code",
   "execution_count": 8,
   "metadata": {},
   "outputs": [],
   "source": [
    "del dfs"
   ]
  },
  {
   "cell_type": "code",
   "execution_count": 9,
   "metadata": {},
   "outputs": [],
   "source": [
    "NEW_MIN = 0.25\n",
    "NEW_MAX = 0.75\n",
    "OLD_PAD_VAL = -1.\n",
    "NEW_PAD_VAL = 0.\n",
    "\n",
    "X_mins, X_maxs = [], []\n",
    "\n",
    "for k in range(X.shape[2]):\n",
    "    \n",
    "    X_mins.append(X[:,:,k][X[:,:,k] != OLD_PAD_VAL].min())\n",
    "    X_maxs.append(X[:,:,k][X[:,:,k] != OLD_PAD_VAL].max())\n",
    "    \n",
    "X_std = np.full(X.shape, NEW_PAD_VAL)\n",
    "\n",
    "for i in range(X.shape[0]):    \n",
    "    for k in range(X.shape[2]):\n",
    "        \n",
    "        indices = np.where(X[i,:,k] != OLD_PAD_VAL)        \n",
    "        X_std[i,indices,k] += ((X[i,indices,k] - X_mins[k]) / (X_maxs[k] - X_mins[k])) * (NEW_MAX - NEW_MIN) + NEW_MIN - NEW_PAD_VAL\n",
    "\n",
    "Y_mins, Y_maxs = [], []\n",
    "\n",
    "for k in range(Y.shape[2]):\n",
    "    \n",
    "    Y_mins.append(Y[:,:,k][Y[:,:,k] != OLD_PAD_VAL].min())\n",
    "    Y_maxs.append(Y[:,:,k][Y[:,:,k] != OLD_PAD_VAL].max())\n",
    "\n",
    "Y_std = np.full(Y.shape, NEW_PAD_VAL)\n",
    "\n",
    "for i in range(Y.shape[0]):\n",
    "    for k in range(Y.shape[2]):\n",
    "        \n",
    "        indices = np.where(Y[i,:,k] != OLD_PAD_VAL)\n",
    "        Y_std[i,indices,k] += ((Y[i,indices,k] - Y_mins[k]) / (Y_maxs[k] - Y_mins[k])) * (NEW_MAX - NEW_MIN) + NEW_MIN - NEW_PAD_VAL"
   ]
  },
  {
   "cell_type": "code",
   "execution_count": 11,
   "metadata": {},
   "outputs": [],
   "source": [
    "SPLIT = X_std.shape[0] - X_std.shape[0] // 10\n",
    "\n",
    "indices = np.arange(0, X_std.shape[0])\n",
    "np.random.shuffle(indices)\n",
    "\n",
    "X_shuffled = X_std[indices,:,:]\n",
    "Y_shuffled = Y_std[indices,:,:]\n",
    "\n",
    "X_train, X_test = X_shuffled[:SPLIT,:,:], X_shuffled[SPLIT:,:,:]\n",
    "Y_train, Y_test = Y_shuffled[:SPLIT,:,:], Y_shuffled[SPLIT:,:,:]"
   ]
  },
  {
   "cell_type": "code",
   "execution_count": 15,
   "metadata": {},
   "outputs": [
    {
     "name": "stdout",
     "output_type": "stream",
     "text": [
      "_________________________________________________________________\n",
      "Layer (type)                 Output Shape              Param #   \n",
      "=================================================================\n",
      "lstm_1 (LSTM)                (1, 200)                  168800    \n",
      "_________________________________________________________________\n",
      "dense_1 (Dense)              (1, 8)                    1608      \n",
      "=================================================================\n",
      "Total params: 170,408\n",
      "Trainable params: 170,408\n",
      "Non-trainable params: 0\n",
      "_________________________________________________________________\n"
     ]
    }
   ],
   "source": [
    "test_model = Sequential()\n",
    "\n",
    "test_model.add(InputLayer(batch_input_shape=(1, 1, X_std.shape[2])))\n",
    "test_model.add(LSTM(200, stateful=True))\n",
    "test_model.add(Dense(Y_std.shape[2], activation='linear'))\n",
    "\n",
    "test_model.summary()"
   ]
  },
  {
   "cell_type": "code",
   "execution_count": 33,
   "metadata": {},
   "outputs": [],
   "source": [
    "test_model.load_weights('Models/MaximalStateLSTM/E200L9.6744E-06.hdf5')"
   ]
  },
  {
   "cell_type": "code",
   "execution_count": 34,
   "metadata": {},
   "outputs": [],
   "source": [
    "test_model.reset_states()"
   ]
  },
  {
   "cell_type": "code",
   "execution_count": 37,
   "metadata": {},
   "outputs": [],
   "source": [
    "i = 2\n",
    "\n",
    "Y_pred = np.zeros([1, Y_test.shape[1], Y_test.shape[2]])\n",
    "\n",
    "inputs = X_train[i:i+1,0:1,:].copy()\n",
    "\n",
    "j = 0\n",
    "while X_train[i,j,0] != 0.:\n",
    "    \n",
    "    Y_pred[0,j:j+1,:] += test_model.predict(inputs, batch_size=1)\n",
    "\n",
    "    inputs[0,0,:2] = X_train[i:i+1,j+1:j+2,:2]\n",
    "    inputs[0,0,2:] = Y_pred[0,j:j+1,:]\n",
    "    \n",
    "    j += 1\n",
    "    \n",
    "test_model.reset_states()"
   ]
  },
  {
   "cell_type": "code",
   "execution_count": 38,
   "metadata": {},
   "outputs": [
    {
     "data": {
      "image/png": "[encoded data removed]",
      "text/plain": [
       "<Figure size 432x288 with 1 Axes>"
      ]
     },
     "metadata": {},
     "output_type": "display_data"
    }
   ],
   "source": [
    "fig, ax = plt.subplots()\n",
    "\n",
    "ax.scatter(range(max_length), Y_train[i,:,0], s=2)\n",
    "ax.scatter(range(max_length), Y_pred[0,:,0], s=2)\n",
    "\n",
    "# Zoom in\n",
    "plt.xlim(0, 10000)\n",
    "plt.ylim(0, 1)\n",
    "\n",
    "plt.tight_layout()\n",
    "plt.show()"
   ]
  },
  {
   "cell_type": "code",
   "execution_count": null,
   "metadata": {},
   "outputs": [],
   "source": []
  }
 ],
 "metadata": {
  "kernelspec": {
   "display_name": "Python 3",
   "language": "python",
   "name": "python3"
  },
  "language_info": {
   "codemirror_mode": {
    "name": "ipython",
    "version": 3
   },
   "file_extension": ".py",
   "mimetype": "text/x-python",
   "name": "python",
   "nbconvert_exporter": "python",
   "pygments_lexer": "ipython3",
   "version": "3.5.3"
  }
 },
 "nbformat": 4,
 "nbformat_minor": 2
}
